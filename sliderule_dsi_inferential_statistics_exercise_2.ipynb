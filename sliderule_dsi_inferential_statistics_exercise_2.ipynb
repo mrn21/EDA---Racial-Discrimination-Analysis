{
 "cells": [
  {
   "cell_type": "markdown",
   "metadata": {},
   "source": [
    "# Examining Racial Discrimination in the US Job Market\n",
    "\n",
    "### Background\n",
    "Racial discrimination continues to be pervasive in cultures throughout the world. Researchers examined the level of racial discrimination in the United States labor market by randomly assigning identical résumés to black-sounding or white-sounding names and observing the impact on requests for interviews from employers.\n",
    "\n",
    "### Data\n",
    "In the dataset provided, each row represents a resume. The 'race' column has two values, 'b' and 'w', indicating black-sounding and white-sounding. The column 'call' has two values, 1 and 0, indicating whether the resume received a call from employers or not.\n",
    "\n",
    "Note that the 'b' and 'w' values in race are assigned randomly to the resumes when presented to the employer."
   ]
  },
  {
   "cell_type": "markdown",
   "metadata": {},
   "source": [
    "### Exercises\n",
    "You will perform a statistical analysis to establish whether race has a significant impact on the rate of callbacks for resumes.\n",
    "\n",
    "Answer the following questions **in this notebook below and submit to your Github account**. \n",
    "\n",
    "   1. What test is appropriate for this problem? Does CLT apply?\n",
    "   2. What are the null and alternate hypotheses?\n",
    "   3. Compute margin of error, confidence interval, and p-value. Try using both the bootstrapping and the frequentist statistical approaches.\n",
    "   4. Write a story describing the statistical significance in the context or the original problem.\n",
    "   5. Does your analysis mean that race/name is the most important factor in callback success? Why or why not? If not, how would you amend your analysis?\n",
    "\n",
    "You can include written notes in notebook cells using Markdown: \n",
    "   - In the control panel at the top, choose Cell > Cell Type > Markdown\n",
    "   - Markdown syntax: http://nestacms.com/docs/creating-content/markdown-cheat-sheet\n",
    "\n",
    "#### Resources\n",
    "+ Experiment information and data source: http://www.povertyactionlab.org/evaluation/discrimination-job-market-united-states\n",
    "+ Scipy statistical methods: http://docs.scipy.org/doc/scipy/reference/stats.html \n",
    "+ Markdown syntax: http://nestacms.com/docs/creating-content/markdown-cheat-sheet\n",
    "+ Formulas for the Bernoulli distribution: https://en.wikipedia.org/wiki/Bernoulli_distribution"
   ]
  },
  {
   "cell_type": "code",
   "execution_count": 1,
   "metadata": {},
   "outputs": [],
   "source": [
    "import pandas as pd\n",
    "import numpy as np\n",
    "from scipy import stats"
   ]
  },
  {
   "cell_type": "code",
   "execution_count": 2,
   "metadata": {},
   "outputs": [],
   "source": [
    "data = pd.io.stata.read_stata('data/us_job_market_discrimination.dta')"
   ]
  },
  {
   "cell_type": "code",
   "execution_count": 3,
   "metadata": {},
   "outputs": [
    {
     "data": {
      "text/plain": [
       "235.0"
      ]
     },
     "execution_count": 3,
     "metadata": {},
     "output_type": "execute_result"
    }
   ],
   "source": [
    "# number of callbacks for black-sounding names\n",
    "sum(data[data.race=='w'].call)"
   ]
  },
  {
   "cell_type": "code",
   "execution_count": 4,
   "metadata": {},
   "outputs": [
    {
     "name": "stdout",
     "output_type": "stream",
     "text": [
      "<class 'pandas.core.frame.DataFrame'>\n",
      "Int64Index: 4870 entries, 0 to 4869\n",
      "Data columns (total 65 columns):\n",
      "id                    4870 non-null object\n",
      "ad                    4870 non-null object\n",
      "education             4870 non-null int8\n",
      "ofjobs                4870 non-null int8\n",
      "yearsexp              4870 non-null int8\n",
      "honors                4870 non-null int8\n",
      "volunteer             4870 non-null int8\n",
      "military              4870 non-null int8\n",
      "empholes              4870 non-null int8\n",
      "occupspecific         4870 non-null int16\n",
      "occupbroad            4870 non-null int8\n",
      "workinschool          4870 non-null int8\n",
      "email                 4870 non-null int8\n",
      "computerskills        4870 non-null int8\n",
      "specialskills         4870 non-null int8\n",
      "firstname             4870 non-null object\n",
      "sex                   4870 non-null object\n",
      "race                  4870 non-null object\n",
      "h                     4870 non-null float32\n",
      "l                     4870 non-null float32\n",
      "call                  4870 non-null float32\n",
      "city                  4870 non-null object\n",
      "kind                  4870 non-null object\n",
      "adid                  4870 non-null float32\n",
      "fracblack             4784 non-null float32\n",
      "fracwhite             4784 non-null float32\n",
      "lmedhhinc             4784 non-null float32\n",
      "fracdropout           4784 non-null float32\n",
      "fraccolp              4784 non-null float32\n",
      "linc                  4784 non-null float32\n",
      "col                   4870 non-null float32\n",
      "expminreq             4870 non-null object\n",
      "schoolreq             4870 non-null object\n",
      "eoe                   4870 non-null float32\n",
      "parent_sales          1672 non-null float32\n",
      "parent_emp            1722 non-null float32\n",
      "branch_sales          608 non-null float32\n",
      "branch_emp            658 non-null float32\n",
      "fed                   3102 non-null float32\n",
      "fracblack_empzip      1918 non-null float32\n",
      "fracwhite_empzip      1918 non-null float32\n",
      "lmedhhinc_empzip      1908 non-null float32\n",
      "fracdropout_empzip    1918 non-null float32\n",
      "fraccolp_empzip       1918 non-null float32\n",
      "linc_empzip           1918 non-null float32\n",
      "manager               4870 non-null float32\n",
      "supervisor            4870 non-null float32\n",
      "secretary             4870 non-null float32\n",
      "offsupport            4870 non-null float32\n",
      "salesrep              4870 non-null float32\n",
      "retailsales           4870 non-null float32\n",
      "req                   4870 non-null float32\n",
      "expreq                4870 non-null float32\n",
      "comreq                4870 non-null float32\n",
      "educreq               4870 non-null float32\n",
      "compreq               4870 non-null float32\n",
      "orgreq                4870 non-null float32\n",
      "manuf                 4870 non-null float32\n",
      "transcom              4870 non-null float32\n",
      "bankreal              4870 non-null float32\n",
      "trade                 4870 non-null float32\n",
      "busservice            4870 non-null float32\n",
      "othservice            4870 non-null float32\n",
      "missind               4870 non-null float32\n",
      "ownership             4870 non-null object\n",
      "dtypes: float32(42), int16(1), int8(12), object(10)\n",
      "memory usage: 1.3+ MB\n"
     ]
    }
   ],
   "source": [
    "data.head()\n",
    "data.info()"
   ]
  },
  {
   "cell_type": "markdown",
   "metadata": {},
   "source": [
    "#### 1.) What test is appropriate for this problem? Does CLT apply?"
   ]
  },
  {
   "cell_type": "markdown",
   "metadata": {
    "collapsed": true
   },
   "source": [
    "For CLT to apply,the  samples have to be independent and  the product of sample size and probability of occurrence has to be greater than or equal to 5"
   ]
  },
  {
   "cell_type": "code",
   "execution_count": 28,
   "metadata": {},
   "outputs": [
    {
     "name": "stdout",
     "output_type": "stream",
     "text": [
      "235.0 2200.0 157.0 2278.0\n"
     ]
    }
   ],
   "source": [
    "p1 = sum(data.call[data.race=='w'])/sum(data.race=='w')\n",
    "\n",
    "n1=sum(data.race=='w')\n",
    "\n",
    "\n",
    "\n",
    "\n",
    "\n",
    "\n",
    "n2 = sum(data.race=='b')\n",
    "p2 = sum(data.call[data.race=='b'])/sum(data.race=='b')\n",
    "\n",
    "popu_call_diff = p1-p2\n",
    "\n",
    "#combined proportion value, cp\n",
    "cp = (n1*p1 + n2*p2) / (n1+n2)\n",
    "std_dev = np.sqrt(cp*(1-cp)/n1 + cp*(1-cp)/n2)\n",
    "\n",
    "print(n1*p1, n1*(1-p1), n2*p2 , n2*(1-p2))\n",
    "\n"
   ]
  },
  {
   "cell_type": "markdown",
   "metadata": {},
   "source": [
    "It can be seen that CLT applies as the above stated conditions for CLT are satisfied"
   ]
  },
  {
   "cell_type": "markdown",
   "metadata": {},
   "source": [
    "#### 2) What are the null and alternate hypotheses?"
   ]
  },
  {
   "cell_type": "markdown",
   "metadata": {},
   "source": [
    "Null hypothesis is that  there is no racial discrimination in call back and that difference in call back rates is purely co-incidental.\n",
    "Alternate hypothesis is that there is significant impact of race on the callback rates."
   ]
  },
  {
   "cell_type": "code",
   "execution_count": 11,
   "metadata": {},
   "outputs": [],
   "source": [
    "w = data[data.race=='w']\n",
    "b = data[data.race=='b']\n",
    "white_call = data[data.race=='w'].call\n",
    "black_call = data[data.race=='b'].call"
   ]
  },
  {
   "cell_type": "markdown",
   "metadata": {
    "collapsed": true
   },
   "source": [
    "#### 3.) Compute margin of error, confidence interval, and p-value. Try using both the bootstrapping and the frequentist statistical approaches.\n"
   ]
  },
  {
   "cell_type": "code",
   "execution_count": 12,
   "metadata": {},
   "outputs": [
    {
     "name": "stdout",
     "output_type": "stream",
     "text": [
      "On doing bootstrapping, number of times the randomly selected prop differences is greater than our samples prop diff is:  0.0\n"
     ]
    }
   ],
   "source": [
    "# Bootstrapping\n",
    "\n",
    "\n",
    "def prop_call_diff(data1, data2):\n",
    "    p1 = sum(data1['call'=='1'])/len(data1)\n",
    "    p2 = sum(data2['call'=='1'])/len(data2)\n",
    "    return abs (p1-p2)\n",
    "\n",
    "\n",
    "\n",
    "def bs_samples_diff(data1, data2, size):\n",
    "    len1 = len(data1)\n",
    "    len2 = len(data2)\n",
    "    perm_reps = np.empty(size)   \n",
    "   \n",
    "    \n",
    "    for i in range(size):\n",
    "        common = np.concatenate((data1,data2))\n",
    "        common_perm = np.random.permutation(common)\n",
    "        perm_rep_b = common_perm[: len1]\n",
    "        perm_rep_w = common_perm[len1:]\n",
    "        perm_reps[i] = prop_call_diff(perm_rep_b,perm_rep_w) \n",
    "       \n",
    "    return perm_reps\n",
    "\n",
    "\n",
    "sample_call_diff = bs_samples_diff(black_call,white_call,10000)\n",
    "\n",
    "\n",
    "# pvalue\n",
    "\n",
    "p = np.sum(sample_call_diff > popu_call_diff)/len(sample_call_diff)\n",
    "print('On doing bootstrapping, number of times the randomly selected prop differences is greater than our samples prop diff is: ', p)\n"
   ]
  },
  {
   "cell_type": "markdown",
   "metadata": {},
   "source": [
    "The p-value for the Null hypothesis is 0.0, which implies that the NUll hypothesis tha there is no racial discrimination in call back and that difference in call back rates is purely co-incidental has FAILED.\n",
    "Alternate hypothesis  that there is significant impact of race on the callback rates seems to be the case."
   ]
  },
  {
   "cell_type": "code",
   "execution_count": 34,
   "metadata": {},
   "outputs": [
    {
     "name": "stdout",
     "output_type": "stream",
     "text": [
      "Margin of Error= 0.015281912310894095\n",
      "t-stat= 4.114705290861751 p-value 3.942941513645935e-05\n",
      "Confidence Interval 0.04731476652033968 0.01675094189855149\n"
     ]
    }
   ],
   "source": [
    "#Frequentist approach\n",
    "# Margin of Error, Confidence Interval  and p value \n",
    "\n",
    "MoE = 1.96 * std_dev\n",
    "print('Margin of Error=', MoE)\n",
    "\n",
    "# t and p values\n",
    "t,p = stats.ttest_ind(white_call, black_call, equal_var = False)\n",
    "print('t-stat=',t, 'p-value', p)\n",
    "\n",
    "# confidence interval\n",
    "\n",
    "print('Confidence Interval', popu_call_diff+MoE,popu_call_diff-MoE)\n",
    "\n",
    "\n"
   ]
  },
  {
   "cell_type": "markdown",
   "metadata": {},
   "source": [
    "<div class=\"span5 alert alert-success\">\n",
    "<p> Your answers to Q4 and Q5 here </p>\n",
    "</div>"
   ]
  },
  {
   "cell_type": "markdown",
   "metadata": {
    "collapsed": true
   },
   "source": [
    "####  4). Write a story describing the statistical significance in the context or the original problem."
   ]
  },
  {
   "cell_type": "markdown",
   "metadata": {},
   "source": [
    "Racial discrimination has existed in various forms throughout much of recorded history.\n",
    "Here the investigation of the distribution of the  data set shows that the racial component is prevailing when it comes to callback for job.\n",
    "\n",
    "The p-value found is well below the threshold of 0.05 (means it has a statistical significance), so the null hypothesis can be rejected. And as per data wecan say that race was considered for a job callback.This shows that the race of a candidate does have a statistically significant effect on his/her chance of getting a callback."
   ]
  },
  {
   "cell_type": "markdown",
   "metadata": {},
   "source": [
    "####  5). Does your analysis mean that race/name is the most important factor in callback success? Why or why not? If not, how would you amend your analysis?"
   ]
  },
  {
   "cell_type": "markdown",
   "metadata": {},
   "source": [
    "No, this analysis does not imply that race/ name is the most important factor in callback success.\n",
    "To deduce that inference, it would be necessary to do a similar comparison with  other influecning factors like gender, social background, educational qualification, previous experience, etc"
   ]
  }
 ],
 "metadata": {
  "kernelspec": {
   "display_name": "Python 3",
   "language": "python",
   "name": "python3"
  },
  "language_info": {
   "codemirror_mode": {
    "name": "ipython",
    "version": 3
   },
   "file_extension": ".py",
   "mimetype": "text/x-python",
   "name": "python",
   "nbconvert_exporter": "python",
   "pygments_lexer": "ipython3",
   "version": "3.6.5"
  }
 },
 "nbformat": 4,
 "nbformat_minor": 1
}
